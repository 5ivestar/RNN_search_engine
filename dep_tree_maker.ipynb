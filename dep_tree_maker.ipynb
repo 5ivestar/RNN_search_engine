{
 "cells": [
  {
   "cell_type": "code",
   "execution_count": 9,
   "metadata": {
    "collapsed": false
   },
   "outputs": [],
   "source": [
    "#data loader\n",
    "from nltk.corpus import wordnet as wn\n",
    "import json\n",
    "from pycorenlp import StanfordCoreNLP\n",
    "\n",
    "term_file=\"data/4000-most-common-english-words-csv.csv\"\n",
    "nlpserver=\"http://localhost:9000\"\n",
    "nlp=StanfordCoreNLP(nlpserver)\n",
    "properties={'annotators':'parse','outputFormat':'json'}\n",
    "\n",
    "directory=\"data/dep_trees/\"\n",
    "with open(term_file,\"r\") as f:\n",
    "    terms=[term.rstrip() for term in f.readlines()]\n",
    "\n",
    "for term in terms:\n",
    "    synsets=wn.synsets(term)\n",
    "    if len(synsets)==0:\n",
    "        continue\n",
    "\n",
    "    #use first synset definition \n",
    "    definition=str(synsets[0].definition())\n",
    "    try:\n",
    "        annotated=nlp.annotate(definition,properties)\n",
    "\n",
    "    #error handling of core nlp\n",
    "    except UnicodeDecodeError:\n",
    "        continue\n",
    "    if not isinstance(annotated,dict):\n",
    "        continue\n",
    "\n",
    "    #use only first sentence\n",
    "    sentence=annotated[\"sentences\"][0]\n",
    "    \n",
    "    #write down to the json file\n",
    "    with open(directory+term+'.json', 'w') as f:\n",
    "        json.dump(sentence, f, sort_keys=True, indent=3)\n"
   ]
  },
  {
   "cell_type": "code",
   "execution_count": 4,
   "metadata": {
    "collapsed": false
   },
   "outputs": [],
   "source": [
    "from nltk.corpus import wordnet as wn\n",
    "import json\n",
    "\n",
    "\n",
    "nlpserver=\"http://localhost:9000\"\n",
    "nlp=StanfordCoreNLP(nlpserver)\n",
    "properties={'annotators':'parse','outputFormat':'json'}\n",
    "\n",
    "result=nlp.annotate(\"fruit with red or yellow or green skin and sweet to tart crisp whitish flesh\",properties)[\"sentences\"][0]\n",
    "with open('sample.json', 'w') as f:\n",
    "    json.dump(result, f, sort_keys=True, indent=3)"
   ]
  },
  {
   "cell_type": "code",
   "execution_count": null,
   "metadata": {
    "collapsed": true
   },
   "outputs": [],
   "source": []
  }
 ],
 "metadata": {
  "kernelspec": {
   "display_name": "Python 2",
   "language": "python",
   "name": "python2"
  },
  "language_info": {
   "codemirror_mode": {
    "name": "ipython",
    "version": 2
   },
   "file_extension": ".py",
   "mimetype": "text/x-python",
   "name": "python",
   "nbconvert_exporter": "python",
   "pygments_lexer": "ipython2",
   "version": "2.7.12"
  }
 },
 "nbformat": 4,
 "nbformat_minor": 1
}
